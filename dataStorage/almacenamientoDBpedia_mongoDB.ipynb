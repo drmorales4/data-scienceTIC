{
 "cells": [
  {
   "cell_type": "code",
   "execution_count": 1,
   "id": "7061810f",
   "metadata": {},
   "outputs": [],
   "source": [
    "# Importamos PyMongo y creamos una conexión a la base de datos\n",
    "\n",
    "import pymongo\n",
    "from pymongo import MongoClient\n",
    "import pandas as pd\n",
    "import json"
   ]
  },
  {
   "cell_type": "markdown",
   "id": "d4ff30d1",
   "metadata": {},
   "source": [
    "## Conexion a MongoDB"
   ]
  },
  {
   "cell_type": "code",
   "execution_count": 2,
   "id": "f12e8314",
   "metadata": {},
   "outputs": [],
   "source": [
    "client = pymongo.MongoClient(\"mongodb://localhost:27017/\")"
   ]
  },
  {
   "cell_type": "code",
   "execution_count": 3,
   "id": "081b9157",
   "metadata": {},
   "outputs": [],
   "source": [
    "# Creamos una base de datos y una colección\n",
    "db = client[\"itinerario\"]"
   ]
  },
  {
   "cell_type": "code",
   "execution_count": 4,
   "id": "4ec19f6a",
   "metadata": {},
   "outputs": [],
   "source": [
    "# creamos la coleccion donde vamos a guardar los datos\n",
    "\n",
    "coleccion = db[\"dataScienceDBpedia_TIC\"]"
   ]
  },
  {
   "cell_type": "markdown",
   "id": "3d8759cc",
   "metadata": {},
   "source": [
    "## Guardar metadatos DBpedia"
   ]
  },
  {
   "cell_type": "code",
   "execution_count": 5,
   "id": "e203f0a2",
   "metadata": {},
   "outputs": [
    {
     "data": {
      "text/html": [
       "<div>\n",
       "<style scoped>\n",
       "    .dataframe tbody tr th:only-of-type {\n",
       "        vertical-align: middle;\n",
       "    }\n",
       "\n",
       "    .dataframe tbody tr th {\n",
       "        vertical-align: top;\n",
       "    }\n",
       "\n",
       "    .dataframe thead th {\n",
       "        text-align: right;\n",
       "    }\n",
       "</style>\n",
       "<table border=\"1\" class=\"dataframe\">\n",
       "  <thead>\n",
       "    <tr style=\"text-align: right;\">\n",
       "      <th></th>\n",
       "      <th>Unnamed: 0</th>\n",
       "      <th>topic</th>\n",
       "      <th>topic_dbpedia</th>\n",
       "      <th>uri_dbpedia</th>\n",
       "      <th>descriptions</th>\n",
       "      <th>images</th>\n",
       "    </tr>\n",
       "  </thead>\n",
       "  <tbody>\n",
       "    <tr>\n",
       "      <th>0</th>\n",
       "      <td>0</td>\n",
       "      <td>Data science concepts</td>\n",
       "      <td>Data_science</td>\n",
       "      <td>&lt;http://dbpedia.org/resource/Data_science&gt;</td>\n",
       "      <td>Data science is an interdisciplinary field tha...</td>\n",
       "      <td>http://commons.wikimedia.org/wiki/Special:File...</td>\n",
       "    </tr>\n",
       "    <tr>\n",
       "      <th>1</th>\n",
       "      <td>1</td>\n",
       "      <td>Big data concepts</td>\n",
       "      <td>Big_data</td>\n",
       "      <td>&lt;http://dbpedia.org/resource/Big_data&gt;</td>\n",
       "      <td>Big data refers to data sets that are too larg...</td>\n",
       "      <td>http://commons.wikimedia.org/wiki/Special:File...</td>\n",
       "    </tr>\n",
       "    <tr>\n",
       "      <th>2</th>\n",
       "      <td>2</td>\n",
       "      <td>Data mining concepts</td>\n",
       "      <td>Data_mining</td>\n",
       "      <td>&lt;http://dbpedia.org/resource/Data_mining&gt;</td>\n",
       "      <td>Data mining is the process of extracting and d...</td>\n",
       "      <td>http://commons.wikimedia.org/wiki/Special:File...</td>\n",
       "    </tr>\n",
       "    <tr>\n",
       "      <th>3</th>\n",
       "      <td>3</td>\n",
       "      <td>Machine learning algorithms</td>\n",
       "      <td>Machine_learning</td>\n",
       "      <td>&lt;http://dbpedia.org/resource/Machine_learning&gt;</td>\n",
       "      <td>Machine learning (ML) is a field of inquiry de...</td>\n",
       "      <td>http://commons.wikimedia.org/wiki/Special:File...</td>\n",
       "    </tr>\n",
       "    <tr>\n",
       "      <th>4</th>\n",
       "      <td>4</td>\n",
       "      <td>Python</td>\n",
       "      <td>Python_(programming_language)</td>\n",
       "      <td>&lt;http://dbpedia.org/resource/Python_(programmi...</td>\n",
       "      <td>Python is a high-level, general-purpose progra...</td>\n",
       "      <td>http://commons.wikimedia.org/wiki/Special:File...</td>\n",
       "    </tr>\n",
       "  </tbody>\n",
       "</table>\n",
       "</div>"
      ],
      "text/plain": [
       "   Unnamed: 0                        topic                  topic_dbpedia  \\\n",
       "0           0        Data science concepts                   Data_science   \n",
       "1           1            Big data concepts                       Big_data   \n",
       "2           2         Data mining concepts                    Data_mining   \n",
       "3           3  Machine learning algorithms               Machine_learning   \n",
       "4           4                       Python  Python_(programming_language)   \n",
       "\n",
       "                                         uri_dbpedia  \\\n",
       "0         <http://dbpedia.org/resource/Data_science>   \n",
       "1             <http://dbpedia.org/resource/Big_data>   \n",
       "2          <http://dbpedia.org/resource/Data_mining>   \n",
       "3     <http://dbpedia.org/resource/Machine_learning>   \n",
       "4  <http://dbpedia.org/resource/Python_(programmi...   \n",
       "\n",
       "                                        descriptions  \\\n",
       "0  Data science is an interdisciplinary field tha...   \n",
       "1  Big data refers to data sets that are too larg...   \n",
       "2  Data mining is the process of extracting and d...   \n",
       "3  Machine learning (ML) is a field of inquiry de...   \n",
       "4  Python is a high-level, general-purpose progra...   \n",
       "\n",
       "                                              images  \n",
       "0  http://commons.wikimedia.org/wiki/Special:File...  \n",
       "1  http://commons.wikimedia.org/wiki/Special:File...  \n",
       "2  http://commons.wikimedia.org/wiki/Special:File...  \n",
       "3  http://commons.wikimedia.org/wiki/Special:File...  \n",
       "4  http://commons.wikimedia.org/wiki/Special:File...  "
      ]
     },
     "execution_count": 5,
     "metadata": {},
     "output_type": "execute_result"
    }
   ],
   "source": [
    "# leer csv\n",
    "\n",
    "data = pd.read_csv('../dataProcessing/dataCleansing/dbpedia_dataStorage.csv')\n",
    "data.head()"
   ]
  },
  {
   "cell_type": "code",
   "execution_count": 6,
   "id": "91289a09",
   "metadata": {},
   "outputs": [
    {
     "name": "stdout",
     "output_type": "stream",
     "text": [
      "Unnamed: 0        int64\n",
      "topic            object\n",
      "topic_dbpedia    object\n",
      "uri_dbpedia      object\n",
      "descriptions     object\n",
      "images           object\n",
      "dtype: object\n"
     ]
    }
   ],
   "source": [
    "print(data.dtypes)"
   ]
  },
  {
   "cell_type": "code",
   "execution_count": 7,
   "id": "58688c48",
   "metadata": {},
   "outputs": [
    {
     "data": {
      "text/html": [
       "<div>\n",
       "<style scoped>\n",
       "    .dataframe tbody tr th:only-of-type {\n",
       "        vertical-align: middle;\n",
       "    }\n",
       "\n",
       "    .dataframe tbody tr th {\n",
       "        vertical-align: top;\n",
       "    }\n",
       "\n",
       "    .dataframe thead th {\n",
       "        text-align: right;\n",
       "    }\n",
       "</style>\n",
       "<table border=\"1\" class=\"dataframe\">\n",
       "  <thead>\n",
       "    <tr style=\"text-align: right;\">\n",
       "      <th></th>\n",
       "      <th>topic</th>\n",
       "      <th>topic_dbpedia</th>\n",
       "      <th>uri_dbpedia</th>\n",
       "      <th>descriptions</th>\n",
       "      <th>images</th>\n",
       "    </tr>\n",
       "  </thead>\n",
       "  <tbody>\n",
       "    <tr>\n",
       "      <th>0</th>\n",
       "      <td>Data science concepts</td>\n",
       "      <td>Data_science</td>\n",
       "      <td>&lt;http://dbpedia.org/resource/Data_science&gt;</td>\n",
       "      <td>Data science is an interdisciplinary field tha...</td>\n",
       "      <td>http://commons.wikimedia.org/wiki/Special:File...</td>\n",
       "    </tr>\n",
       "    <tr>\n",
       "      <th>1</th>\n",
       "      <td>Big data concepts</td>\n",
       "      <td>Big_data</td>\n",
       "      <td>&lt;http://dbpedia.org/resource/Big_data&gt;</td>\n",
       "      <td>Big data refers to data sets that are too larg...</td>\n",
       "      <td>http://commons.wikimedia.org/wiki/Special:File...</td>\n",
       "    </tr>\n",
       "    <tr>\n",
       "      <th>2</th>\n",
       "      <td>Data mining concepts</td>\n",
       "      <td>Data_mining</td>\n",
       "      <td>&lt;http://dbpedia.org/resource/Data_mining&gt;</td>\n",
       "      <td>Data mining is the process of extracting and d...</td>\n",
       "      <td>http://commons.wikimedia.org/wiki/Special:File...</td>\n",
       "    </tr>\n",
       "    <tr>\n",
       "      <th>3</th>\n",
       "      <td>Machine learning algorithms</td>\n",
       "      <td>Machine_learning</td>\n",
       "      <td>&lt;http://dbpedia.org/resource/Machine_learning&gt;</td>\n",
       "      <td>Machine learning (ML) is a field of inquiry de...</td>\n",
       "      <td>http://commons.wikimedia.org/wiki/Special:File...</td>\n",
       "    </tr>\n",
       "    <tr>\n",
       "      <th>4</th>\n",
       "      <td>Python</td>\n",
       "      <td>Python_(programming_language)</td>\n",
       "      <td>&lt;http://dbpedia.org/resource/Python_(programmi...</td>\n",
       "      <td>Python is a high-level, general-purpose progra...</td>\n",
       "      <td>http://commons.wikimedia.org/wiki/Special:File...</td>\n",
       "    </tr>\n",
       "  </tbody>\n",
       "</table>\n",
       "</div>"
      ],
      "text/plain": [
       "                         topic                  topic_dbpedia  \\\n",
       "0        Data science concepts                   Data_science   \n",
       "1            Big data concepts                       Big_data   \n",
       "2         Data mining concepts                    Data_mining   \n",
       "3  Machine learning algorithms               Machine_learning   \n",
       "4                       Python  Python_(programming_language)   \n",
       "\n",
       "                                         uri_dbpedia  \\\n",
       "0         <http://dbpedia.org/resource/Data_science>   \n",
       "1             <http://dbpedia.org/resource/Big_data>   \n",
       "2          <http://dbpedia.org/resource/Data_mining>   \n",
       "3     <http://dbpedia.org/resource/Machine_learning>   \n",
       "4  <http://dbpedia.org/resource/Python_(programmi...   \n",
       "\n",
       "                                        descriptions  \\\n",
       "0  Data science is an interdisciplinary field tha...   \n",
       "1  Big data refers to data sets that are too larg...   \n",
       "2  Data mining is the process of extracting and d...   \n",
       "3  Machine learning (ML) is a field of inquiry de...   \n",
       "4  Python is a high-level, general-purpose progra...   \n",
       "\n",
       "                                              images  \n",
       "0  http://commons.wikimedia.org/wiki/Special:File...  \n",
       "1  http://commons.wikimedia.org/wiki/Special:File...  \n",
       "2  http://commons.wikimedia.org/wiki/Special:File...  \n",
       "3  http://commons.wikimedia.org/wiki/Special:File...  \n",
       "4  http://commons.wikimedia.org/wiki/Special:File...  "
      ]
     },
     "execution_count": 7,
     "metadata": {},
     "output_type": "execute_result"
    }
   ],
   "source": [
    "data = data.drop(['Unnamed: 0'], axis=1)\n",
    "data.head()"
   ]
  },
  {
   "cell_type": "code",
   "execution_count": 8,
   "id": "725bbf76",
   "metadata": {},
   "outputs": [
    {
     "name": "stdout",
     "output_type": "stream",
     "text": [
      "[{'topic': 'Data science concepts', 'topic_dbpedia': 'Data_science', 'uri_dbpedia': '<http://dbpedia.org/resource/Data_science>', 'descriptions': 'Data science is an interdisciplinary field that uses scientific methods, processes, algorithms and systems to extract or extrapolate knowledge and insights from noisy, structured and unstructured data, and apply knowledge from data across a broad range of application domains. Data science is related to data mining, machine learning and big data. Data science is a \"concept to unify statistics, data analysis, informatics, and their related methods\" in order to \"understand and analyse actual phenomena\" with data. It uses techniques and theories drawn from many fields within the context of mathematics, statistics, computer science, information science, and domain knowledge. However, data science is different from computer science and information science. Turing Award winner Jim Gray imagined data science as a \"fourth paradigm\" of science (empirical, theoretical, computational, and now data-driven) and asserted that \"everything about science is changing because of the impact of information technology\" and the data deluge. A data scientist is someone who creates programming code and combines it with statistical knowledge to create insights from data.', 'images': 'http://commons.wikimedia.org/wiki/Special:FilePath/PIA23792-1600x1200(1).jpg?width=300'}, {'topic': 'Big data concepts', 'topic_dbpedia': 'Big_data', 'uri_dbpedia': '<http://dbpedia.org/resource/Big_data>', 'descriptions': 'Big data refers to data sets that are too large or complex to be dealt with by traditional data-processing application software. Data with many fields (rows) offer greater statistical power, while data with higher complexity (more attributes or columns) may lead to a higher false discovery rate. Big data analysis challenges include capturing data, data storage, data analysis, search, sharing, transfer, visualization, querying, updating, information privacy, and data source. Big data was originally associated with three key concepts: volume, variety, and velocity. The analysis of big data presents challenges in sampling, and thus previously allowing for only observations and sampling. Thus a fourth concept, veracity, refers to the quality or insightfulness of the data. Without sufficient investment in expertise for big data veracity, then the volume and variety of data can produce costs and risks that exceed an organization\\'s capacity to create and capture value from big data. Current usage of the term big data tends to refer to the use of predictive analytics, user behavior analytics, or certain other advanced data analytics methods that extract value from big data, and seldom to a particular size of data set. \"There is little doubt that the quantities of data now available are indeed large, but that\\'s not the most relevant characteristic of this new data ecosystem.\"Analysis of data sets can find new correlations to \"spot business trends, prevent diseases, combat crime and so on\". Scientists, business executives, medical practitioners, advertising and governments alike regularly meet difficulties with large data-sets in areas including Internet searches, fintech, healthcare analytics, geographic information systems, urban informatics, and business informatics. Scientists encounter limitations in e-Science work, including meteorology, genomics, connectomics, complex physics simulations, biology, and environmental research. The size and number of available data sets have grown rapidly as data is collected by devices such as mobile devices, cheap and numerous information-sensing Internet of things devices, aerial (remote sensing), software logs, cameras, microphones, radio-frequency identification (RFID) readers and wireless sensor networks. The world\\'s technological per-capita capacity to store information has roughly doubled every 40 months since the 1980s; as of 2012, every day 2.5 exabytes (2.5×260 bytes) of data are generated. Based on an IDC report prediction, the global data volume was predicted to grow exponentially from 4.4 zettabytes to 44 zettabytes between 2013 and 2020. By 2025, IDC predicts there will be 163 zettabytes of data. According to IDC, global spending on big data and business analytics (BDA) solutions is estimated to reach $215.7 billion in 2021. While Statista report, the global big data market is forecasted to grow to $103 billion by 2027. In 2011 McKinsey & Company reported, if US healthcare were to use big data creatively and effectively to drive efficiency and quality, the sector could create more than $300 billion in value every year. In the developed economies of Europe, government administrators could save more than €100 billion ($149 billion) in operational efficiency improvements alone by using big data. And users of services enabled by personal-location data could capture $600 billion in consumer surplus. One question for large enterprises is determining who should own big-data initiatives that affect the entire organization. Relational database management systems and desktop statistical software packages used to visualize data often have difficulty processing and analyzing big data. The processing and analysis of big data may require \"massively parallel software running on tens, hundreds, or even thousands of servers\". What qualifies as \"big data\" varies depending on the capabilities of those analyzing it and their tools. Furthermore, expanding capabilities make big data a moving target. \"For some organizations, facing hundreds of gigabytes of data for the first time may trigger a need to reconsider data management options. For others, it may take tens or hundreds of terabytes before data size becomes a significant consideration.\"', 'images': 'http://commons.wikimedia.org/wiki/Special:FilePath/Hilbert_InfoGrowth.png?width=300'}, {'topic': 'Data mining concepts', 'topic_dbpedia': 'Data_mining', 'uri_dbpedia': '<http://dbpedia.org/resource/Data_mining>', 'descriptions': 'Data mining is the process of extracting and discovering patterns in large data sets involving methods at the intersection of machine learning, statistics, and database systems. Data mining is an interdisciplinary subfield of computer science and statistics with an overall goal of extracting information (with intelligent methods) from a data set and transforming the information into a comprehensible structure for further use. Data mining is the analysis step of the \"knowledge discovery in databases\" process, or KDD. Aside from the raw analysis step, it also involves database and data management aspects, data pre-processing, model and inference considerations, interestingness metrics, complexity considerations, post-processing of discovered structures, visualization, and online updating. The term \"data mining\" is a misnomer because the goal is the extraction of patterns and knowledge from large amounts of data, not the extraction (mining) of data itself. It also is a buzzword and is frequently applied to any form of large-scale data or information processing (collection, extraction, warehousing, analysis, and statistics) as well as any application of computer decision support system, including artificial intelligence (e.g., machine learning) and business intelligence. The book Data mining: Practical machine learning tools and techniques with Java (which covers mostly machine learning material) was originally to be named Practical machine learning, and the term data mining was only added for marketing reasons. Often the more general terms (large scale) data analysis and analytics—or, when referring to actual methods, artificial intelligence and machine learning—are more appropriate. The actual data mining task is the semi-automatic or automatic analysis of large quantities of data to extract previously unknown, interesting patterns such as groups of data records (cluster analysis), unusual records (anomaly detection), and dependencies (association rule mining, sequential pattern mining). This usually involves using database techniques such as spatial indices. These patterns can then be seen as a kind of summary of the input data, and may be used in further analysis or, for example, in machine learning and predictive analytics. For example, the data mining step might identify multiple groups in the data, which can then be used to obtain more accurate prediction results by a decision support system. Neither the data collection, data preparation, nor result interpretation and reporting is part of the data mining step, although they do belong to the overall KDD process as additional steps. The difference between data analysis and data mining is that data analysis is used to test models and hypotheses on the dataset, e.g., analyzing the effectiveness of a marketing campaign, regardless of the amount of data. In contrast, data mining uses machine learning and statistical models to uncover clandestine or hidden patterns in a large volume of data. The related terms data dredging, data fishing, and data snooping refer to the use of data mining methods to sample parts of a larger population data set that are (or may be) too small for reliable statistical inferences to be made about the validity of any patterns discovered. These methods can, however, be used in creating new hypotheses to test against the larger data populations.', 'images': 'http://commons.wikimedia.org/wiki/Special:FilePath/Spurious_correlations_-_spelling_bee_spiders.svg?width=300'}]\n"
     ]
    }
   ],
   "source": [
    "# To convert into a dictionary structure\n",
    "\n",
    "data = data.to_dict(orient='records') \n",
    "print(data[:3])"
   ]
  },
  {
   "cell_type": "code",
   "execution_count": 9,
   "id": "0d92a195",
   "metadata": {},
   "outputs": [
    {
     "data": {
      "text/plain": [
       "<pymongo.results.InsertManyResult at 0x22fefb63d60>"
      ]
     },
     "execution_count": 9,
     "metadata": {},
     "output_type": "execute_result"
    }
   ],
   "source": [
    "# Insertamos el documento en la colección\n",
    "\n",
    "coleccion.insert_many(data)"
   ]
  },
  {
   "cell_type": "code",
   "execution_count": 10,
   "id": "13506992",
   "metadata": {},
   "outputs": [],
   "source": [
    "# Cerramos la conexión a la base de datos\n",
    "client.close()"
   ]
  },
  {
   "cell_type": "code",
   "execution_count": null,
   "id": "d1c3a801",
   "metadata": {},
   "outputs": [],
   "source": []
  }
 ],
 "metadata": {
  "kernelspec": {
   "display_name": "Python 3 (ipykernel)",
   "language": "python",
   "name": "python3"
  },
  "language_info": {
   "codemirror_mode": {
    "name": "ipython",
    "version": 3
   },
   "file_extension": ".py",
   "mimetype": "text/x-python",
   "name": "python",
   "nbconvert_exporter": "python",
   "pygments_lexer": "ipython3",
   "version": "3.10.0"
  }
 },
 "nbformat": 4,
 "nbformat_minor": 5
}
