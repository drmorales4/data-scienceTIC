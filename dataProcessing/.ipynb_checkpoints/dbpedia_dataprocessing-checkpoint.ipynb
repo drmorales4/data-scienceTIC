{
 "cells": [
  {
   "cell_type": "markdown",
   "id": "7fd97fab",
   "metadata": {},
   "source": [
    "# DBpedia Data Processing"
   ]
  },
  {
   "cell_type": "code",
   "execution_count": 1,
   "id": "6d66cf6f",
   "metadata": {},
   "outputs": [],
   "source": [
    "# importar librerias\n",
    "import pandas as pd\n",
    "import numpy as np\n",
    "import json\n",
    "import pprint"
   ]
  },
  {
   "cell_type": "code",
   "execution_count": 7,
   "id": "4c6817f5",
   "metadata": {},
   "outputs": [],
   "source": [
    "# leer csv de datasets extraidos desde api kaggle\n",
    "\n",
    "dataDBpedia = pd.read_csv('../dataExtraction/api_dataExtraction/dbpedia.csv')"
   ]
  },
  {
   "cell_type": "code",
   "execution_count": 8,
   "id": "5837845a",
   "metadata": {},
   "outputs": [
    {
     "data": {
      "text/html": [
       "<div>\n",
       "<style scoped>\n",
       "    .dataframe tbody tr th:only-of-type {\n",
       "        vertical-align: middle;\n",
       "    }\n",
       "\n",
       "    .dataframe tbody tr th {\n",
       "        vertical-align: top;\n",
       "    }\n",
       "\n",
       "    .dataframe thead th {\n",
       "        text-align: right;\n",
       "    }\n",
       "</style>\n",
       "<table border=\"1\" class=\"dataframe\">\n",
       "  <thead>\n",
       "    <tr style=\"text-align: right;\">\n",
       "      <th></th>\n",
       "      <th>Unnamed: 0</th>\n",
       "      <th>topic</th>\n",
       "      <th>topic_dbpedia</th>\n",
       "      <th>uri_dbpedia</th>\n",
       "      <th>descriptions</th>\n",
       "      <th>images</th>\n",
       "    </tr>\n",
       "  </thead>\n",
       "  <tbody>\n",
       "    <tr>\n",
       "      <th>0</th>\n",
       "      <td>0</td>\n",
       "      <td>Data science concepts</td>\n",
       "      <td>Data_science</td>\n",
       "      <td>&lt;http://dbpedia.org/resource/Data_science&gt;</td>\n",
       "      <td>Data science is an interdisciplinary field tha...</td>\n",
       "      <td>http://commons.wikimedia.org/wiki/Special:File...</td>\n",
       "    </tr>\n",
       "    <tr>\n",
       "      <th>1</th>\n",
       "      <td>1</td>\n",
       "      <td>Big data concepts</td>\n",
       "      <td>Big_data</td>\n",
       "      <td>&lt;http://dbpedia.org/resource/Big_data&gt;</td>\n",
       "      <td>Big data refers to data sets that are too larg...</td>\n",
       "      <td>http://commons.wikimedia.org/wiki/Special:File...</td>\n",
       "    </tr>\n",
       "    <tr>\n",
       "      <th>2</th>\n",
       "      <td>2</td>\n",
       "      <td>Data mining concepts</td>\n",
       "      <td>Data_mining</td>\n",
       "      <td>&lt;http://dbpedia.org/resource/Data_mining&gt;</td>\n",
       "      <td>Data mining is the process of extracting and d...</td>\n",
       "      <td>http://commons.wikimedia.org/wiki/Special:File...</td>\n",
       "    </tr>\n",
       "    <tr>\n",
       "      <th>3</th>\n",
       "      <td>3</td>\n",
       "      <td>Machine learning algorithms</td>\n",
       "      <td>Machine_learning</td>\n",
       "      <td>&lt;http://dbpedia.org/resource/Machine_learning&gt;</td>\n",
       "      <td>Machine learning (ML) is a field of inquiry de...</td>\n",
       "      <td>http://commons.wikimedia.org/wiki/Special:File...</td>\n",
       "    </tr>\n",
       "    <tr>\n",
       "      <th>4</th>\n",
       "      <td>4</td>\n",
       "      <td>Python</td>\n",
       "      <td>Python_(programming_language)</td>\n",
       "      <td>&lt;http://dbpedia.org/resource/Python_(programmi...</td>\n",
       "      <td>Python is a high-level, general-purpose progra...</td>\n",
       "      <td>http://commons.wikimedia.org/wiki/Special:File...</td>\n",
       "    </tr>\n",
       "  </tbody>\n",
       "</table>\n",
       "</div>"
      ],
      "text/plain": [
       "   Unnamed: 0                        topic                  topic_dbpedia  \\\n",
       "0           0        Data science concepts                   Data_science   \n",
       "1           1            Big data concepts                       Big_data   \n",
       "2           2         Data mining concepts                    Data_mining   \n",
       "3           3  Machine learning algorithms               Machine_learning   \n",
       "4           4                       Python  Python_(programming_language)   \n",
       "\n",
       "                                         uri_dbpedia  \\\n",
       "0         <http://dbpedia.org/resource/Data_science>   \n",
       "1             <http://dbpedia.org/resource/Big_data>   \n",
       "2          <http://dbpedia.org/resource/Data_mining>   \n",
       "3     <http://dbpedia.org/resource/Machine_learning>   \n",
       "4  <http://dbpedia.org/resource/Python_(programmi...   \n",
       "\n",
       "                                        descriptions  \\\n",
       "0  Data science is an interdisciplinary field tha...   \n",
       "1  Big data refers to data sets that are too larg...   \n",
       "2  Data mining is the process of extracting and d...   \n",
       "3  Machine learning (ML) is a field of inquiry de...   \n",
       "4  Python is a high-level, general-purpose progra...   \n",
       "\n",
       "                                              images  \n",
       "0  http://commons.wikimedia.org/wiki/Special:File...  \n",
       "1  http://commons.wikimedia.org/wiki/Special:File...  \n",
       "2  http://commons.wikimedia.org/wiki/Special:File...  \n",
       "3  http://commons.wikimedia.org/wiki/Special:File...  \n",
       "4  http://commons.wikimedia.org/wiki/Special:File...  "
      ]
     },
     "execution_count": 8,
     "metadata": {},
     "output_type": "execute_result"
    }
   ],
   "source": [
    "dataDBpedia.head()"
   ]
  },
  {
   "cell_type": "code",
   "execution_count": 9,
   "id": "a121fd37",
   "metadata": {},
   "outputs": [
    {
     "data": {
      "text/plain": [
       "(58, 6)"
      ]
     },
     "execution_count": 9,
     "metadata": {},
     "output_type": "execute_result"
    }
   ],
   "source": [
    "dataDBpedia.shape"
   ]
  },
  {
   "cell_type": "code",
   "execution_count": 10,
   "id": "9db40475",
   "metadata": {},
   "outputs": [
    {
     "name": "stdout",
     "output_type": "stream",
     "text": [
      "<class 'pandas.core.frame.DataFrame'>\n",
      "RangeIndex: 58 entries, 0 to 57\n",
      "Data columns (total 6 columns):\n",
      " #   Column         Non-Null Count  Dtype \n",
      "---  ------         --------------  ----- \n",
      " 0   Unnamed: 0     58 non-null     int64 \n",
      " 1   topic          58 non-null     object\n",
      " 2   topic_dbpedia  58 non-null     object\n",
      " 3   uri_dbpedia    58 non-null     object\n",
      " 4   descriptions   55 non-null     object\n",
      " 5   images         43 non-null     object\n",
      "dtypes: int64(1), object(5)\n",
      "memory usage: 2.8+ KB\n"
     ]
    }
   ],
   "source": [
    "dataDBpedia.info()"
   ]
  },
  {
   "cell_type": "code",
   "execution_count": 11,
   "id": "0609d830",
   "metadata": {},
   "outputs": [
    {
     "data": {
      "text/plain": [
       "Unnamed: 0        0\n",
       "topic             0\n",
       "topic_dbpedia     0\n",
       "uri_dbpedia       0\n",
       "descriptions      3\n",
       "images           15\n",
       "dtype: int64"
      ]
     },
     "execution_count": 11,
     "metadata": {},
     "output_type": "execute_result"
    }
   ],
   "source": [
    "# revisar nulos\n",
    "dataDBpedia.isnull().sum()"
   ]
  },
  {
   "cell_type": "code",
   "execution_count": 12,
   "id": "db9d80ed",
   "metadata": {},
   "outputs": [],
   "source": [
    "# eliminar columnas\n",
    "\n",
    "dataDBpedia = dataDBpedia.drop(['Unnamed: 0'], axis=1)"
   ]
  },
  {
   "cell_type": "code",
   "execution_count": 13,
   "id": "9236219f",
   "metadata": {},
   "outputs": [
    {
     "name": "stdout",
     "output_type": "stream",
     "text": [
      "<class 'pandas.core.frame.DataFrame'>\n",
      "RangeIndex: 58 entries, 0 to 57\n",
      "Data columns (total 5 columns):\n",
      " #   Column         Non-Null Count  Dtype \n",
      "---  ------         --------------  ----- \n",
      " 0   topic          58 non-null     object\n",
      " 1   topic_dbpedia  58 non-null     object\n",
      " 2   uri_dbpedia    58 non-null     object\n",
      " 3   descriptions   55 non-null     object\n",
      " 4   images         43 non-null     object\n",
      "dtypes: object(5)\n",
      "memory usage: 2.4+ KB\n"
     ]
    }
   ],
   "source": [
    "dataDBpedia.info()"
   ]
  },
  {
   "cell_type": "code",
   "execution_count": 14,
   "id": "8c86b8ae",
   "metadata": {},
   "outputs": [],
   "source": [
    "# generar csv\n",
    "dataDBpedia.to_csv(\"dataCleansing/dbpedia_dataStorage.csv\")"
   ]
  },
  {
   "cell_type": "code",
   "execution_count": null,
   "id": "1662bb63",
   "metadata": {},
   "outputs": [],
   "source": []
  }
 ],
 "metadata": {
  "kernelspec": {
   "display_name": "Python 3 (ipykernel)",
   "language": "python",
   "name": "python3"
  },
  "language_info": {
   "codemirror_mode": {
    "name": "ipython",
    "version": 3
   },
   "file_extension": ".py",
   "mimetype": "text/x-python",
   "name": "python",
   "nbconvert_exporter": "python",
   "pygments_lexer": "ipython3",
   "version": "3.10.0"
  }
 },
 "nbformat": 4,
 "nbformat_minor": 5
}
