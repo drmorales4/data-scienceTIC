{
 "cells": [
  {
   "cell_type": "markdown",
   "id": "61371f24",
   "metadata": {},
   "source": [
    "# Consultas a GraphDB"
   ]
  },
  {
   "cell_type": "code",
   "execution_count": 1,
   "id": "9d6b2d28",
   "metadata": {},
   "outputs": [],
   "source": [
    "from py2neo import Graph\n",
    "import rdflib\n",
    "from SPARQLWrapper import SPARQLWrapper, JSON, RDF, XML"
   ]
  },
  {
   "cell_type": "code",
   "execution_count": 2,
   "id": "9d3169d1",
   "metadata": {},
   "outputs": [],
   "source": [
    "endPoint = \"http://172.17.26.6:7200/repositories/dsResources\"\n",
    "sparql = SPARQLWrapper(endPoint)"
   ]
  },
  {
   "cell_type": "code",
   "execution_count": null,
   "id": "dee4f58b",
   "metadata": {},
   "outputs": [],
   "source": [
    "def getMalla():\n",
    "    query = \"\"\"\n",
    "PREFIX rdf: <http://www.w3.org/1999/02/22-rdf-syntax-ns#>\n",
    "PREFIX rdfs: <http://www.w3.org/2000/01/rdf-schema#>\n",
    "PREFIX dbo: <http://dbpedia.org/ontology/>\n",
    "PREFIX dbr: <http://dbpedia.org/resource/>\n",
    "PREFIX vocab: <http://rdf.ontology2.com/vocab#>\n",
    "PREFIX skos: <http://www.w3.org/2004/02/skos/core#>\n",
    "prefix dct: <http://purl.org/dc/terms/>\n",
    "\n",
    "PREFIX owl: <http://www.w3.org/2002/07/owl#>\n",
    "select distinct ?s ?l ?p ?t\n",
    "where \n",
    "{ values ?p{ skos:broader dct:subject skos:broader owl:sameAs }\n",
    "    ?s rdfs:label ?l.\n",
    "    filter contains(?l, \"Scrapy\").\n",
    "    ?s ?p ?t\n",
    "}\n",
    "    \"\"\""
   ]
  },
  {
   "cell_type": "code",
   "execution_count": null,
   "id": "c4f6378c",
   "metadata": {},
   "outputs": [],
   "source": []
  },
  {
   "cell_type": "code",
   "execution_count": null,
   "id": "e4b4ab28",
   "metadata": {},
   "outputs": [],
   "source": []
  }
 ],
 "metadata": {
  "kernelspec": {
   "display_name": "Python 3 (ipykernel)",
   "language": "python",
   "name": "python3"
  },
  "language_info": {
   "codemirror_mode": {
    "name": "ipython",
    "version": 3
   },
   "file_extension": ".py",
   "mimetype": "text/x-python",
   "name": "python",
   "nbconvert_exporter": "python",
   "pygments_lexer": "ipython3",
   "version": "3.10.0"
  }
 },
 "nbformat": 4,
 "nbformat_minor": 5
}
