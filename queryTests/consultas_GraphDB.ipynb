{
 "cells": [
  {
   "cell_type": "markdown",
   "id": "61371f24",
   "metadata": {},
   "source": [
    "# Consultas a GraphDB"
   ]
  },
  {
   "cell_type": "code",
   "execution_count": 1,
   "id": "9d6b2d28",
   "metadata": {},
   "outputs": [],
   "source": [
    "from py2neo import Graph\n",
    "import rdflib\n",
    "from SPARQLWrapper import SPARQLWrapper, JSON, RDF, XML"
   ]
  },
  {
   "cell_type": "code",
   "execution_count": 2,
   "id": "9d3169d1",
   "metadata": {},
   "outputs": [],
   "source": [
    "endPoint = \"http://172.17.26.6:7200/repositories/dsResources\"\n",
    "sparql = SPARQLWrapper(endPoint)"
   ]
  },
  {
   "cell_type": "code",
   "execution_count": 3,
   "id": "dee4f58b",
   "metadata": {},
   "outputs": [],
   "source": [
    "query = \"\"\"\n",
    "PREFIX rdf: <http://www.w3.org/1999/02/22-rdf-syntax-ns#>\n",
    "PREFIX rdfs: <http://www.w3.org/2000/01/rdf-schema#>\n",
    "PREFIX dbo: <http://dbpedia.org/ontology/>\n",
    "PREFIX dbr: <http://dbpedia.org/resource/>\n",
    "PREFIX vocab: <http://rdf.ontology2.com/vocab#>\n",
    "PREFIX skos: <http://www.w3.org/2004/02/skos/core#>\n",
    "prefix dct: <http://purl.org/dc/terms/>\n",
    "PREFIX owl: <http://www.w3.org/2002/07/owl#>\n",
    "\n",
    "select distinct ?s ?l ?p ?t\n",
    "where \n",
    "{ values ?p{ skos:broader dct:subject skos:broader owl:sameAs }\n",
    "    ?s rdfs:label ?l.\n",
    "    filter contains(?l, \"Scrapy\").\n",
    "    ?s ?p ?t\n",
    "}\n",
    "    \"\"\"\n",
    "sparql.setQuery(query)\n",
    "sparql.setReturnFormat('json')"
   ]
  },
  {
   "cell_type": "code",
   "execution_count": 4,
   "id": "c4f6378c",
   "metadata": {},
   "outputs": [],
   "source": [
    "results = sparql.query().convert()"
   ]
  },
  {
   "cell_type": "code",
   "execution_count": 5,
   "id": "e4b4ab28",
   "metadata": {},
   "outputs": [
    {
     "ename": "NameError",
     "evalue": "name 'results' is not defined",
     "output_type": "error",
     "traceback": [
      "\u001b[1;31m---------------------------------------------------------------------------\u001b[0m",
      "\u001b[1;31mNameError\u001b[0m                                 Traceback (most recent call last)",
      "\u001b[1;32m~\\AppData\\Local\\Temp/ipykernel_5300/962467392.py\u001b[0m in \u001b[0;36m<module>\u001b[1;34m\u001b[0m\n\u001b[1;32m----> 1\u001b[1;33m \u001b[0mresults\u001b[0m\u001b[1;33m\u001b[0m\u001b[1;33m\u001b[0m\u001b[0m\n\u001b[0m",
      "\u001b[1;31mNameError\u001b[0m: name 'results' is not defined"
     ]
    }
   ],
   "source": [
    "for result in results[\"results\"][\"bindings\"]:\n",
    "    print(result[\"column_name\"][\"value\"])"
   ]
  },
  {
   "cell_type": "code",
   "execution_count": null,
   "id": "938ccbbd",
   "metadata": {},
   "outputs": [],
   "source": []
  },
  {
   "cell_type": "code",
   "execution_count": null,
   "id": "0957104b",
   "metadata": {},
   "outputs": [],
   "source": []
  },
  {
   "cell_type": "code",
   "execution_count": null,
   "id": "b18422e1",
   "metadata": {},
   "outputs": [],
   "source": []
  },
  {
   "cell_type": "code",
   "execution_count": 1,
   "id": "15a82825",
   "metadata": {},
   "outputs": [],
   "source": [
    "from pyvis.network import Network\n",
    "import webbrowser"
   ]
  },
  {
   "cell_type": "code",
   "execution_count": 2,
   "id": "a31fc14a",
   "metadata": {},
   "outputs": [
    {
     "name": "stdout",
     "output_type": "stream",
     "text": [
      "Local cdn resources have problems on chrome/safari when used in jupyter-notebook. \n"
     ]
    }
   ],
   "source": [
    "# Crea una red vacía\n",
    "net = Network(notebook=True)"
   ]
  },
  {
   "cell_type": "code",
   "execution_count": 3,
   "id": "1472da1d",
   "metadata": {},
   "outputs": [],
   "source": [
    "# Agrega nodos a la red\n",
    "net.add_node(\"A\", label=\"Node A\", title=\" A\", url=\"https://www.wikipedia.org/\", target=\"_blank\")\n",
    "net.add_node(\"B\", label=\"Node B\", title=\"Enlagi B\", url=\"http://dbpedia.org/resource/Category:Web_scraping\", target=\"_blank\")\n",
    "net.add_node(\"C\", label=\"Node C\", title=\"página C\", url=\"https://paginaC.com\", target=\"_blank\")"
   ]
  },
  {
   "cell_type": "code",
   "execution_count": 4,
   "id": "2f11d608",
   "metadata": {},
   "outputs": [],
   "source": [
    "# Agrega enlaces a la red\n",
    "net.add_edge(\"A\", \"B\")\n",
    "net.add_edge(\"A\", \"C\")"
   ]
  },
  {
   "cell_type": "code",
   "execution_count": 5,
   "id": "e9868700",
   "metadata": {},
   "outputs": [
    {
     "data": {
      "text/html": [
       "\n",
       "        <iframe\n",
       "            width=\"100%\"\n",
       "            height=\"600px\"\n",
       "            src=\"example.html\"\n",
       "            frameborder=\"0\"\n",
       "            allowfullscreen\n",
       "            \n",
       "        ></iframe>\n",
       "        "
      ],
      "text/plain": [
       "<IPython.lib.display.IFrame at 0x275b8a503d0>"
      ]
     },
     "execution_count": 5,
     "metadata": {},
     "output_type": "execute_result"
    }
   ],
   "source": [
    "# Muestra la red en un archivo HTML\n",
    "net.show(\"example.html\")"
   ]
  },
  {
   "cell_type": "code",
   "execution_count": 6,
   "id": "aa3e2dbc",
   "metadata": {},
   "outputs": [
    {
     "data": {
      "text/plain": [
       "True"
      ]
     },
     "execution_count": 6,
     "metadata": {},
     "output_type": "execute_result"
    }
   ],
   "source": [
    "# Abre el archivo HTML en el navegador web predeterminado\n",
    "webbrowser.open_new_tab(\"example.html\")"
   ]
  },
  {
   "cell_type": "code",
   "execution_count": null,
   "id": "904077ed",
   "metadata": {},
   "outputs": [],
   "source": []
  }
 ],
 "metadata": {
  "kernelspec": {
   "display_name": "Python 3 (ipykernel)",
   "language": "python",
   "name": "python3"
  },
  "language_info": {
   "codemirror_mode": {
    "name": "ipython",
    "version": 3
   },
   "file_extension": ".py",
   "mimetype": "text/x-python",
   "name": "python",
   "nbconvert_exporter": "python",
   "pygments_lexer": "ipython3",
   "version": "3.10.0"
  }
 },
 "nbformat": 4,
 "nbformat_minor": 5
}
